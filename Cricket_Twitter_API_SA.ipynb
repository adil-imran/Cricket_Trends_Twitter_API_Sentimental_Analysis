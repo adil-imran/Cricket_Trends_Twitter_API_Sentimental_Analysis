{
 "cells": [
  {
   "cell_type": "markdown",
   "id": "8b5b7fa5",
   "metadata": {},
   "source": [
    "# Cricket Trend Sentiment Analysis by Using Twitter API"
   ]
  },
  {
   "cell_type": "code",
   "execution_count": 393,
   "id": "bb500f97",
   "metadata": {},
   "outputs": [],
   "source": [
    "import requests\n",
    "from twython import Twython\n",
    "from credentials import *\n",
    "import datetime\n",
    "import pandas as pd\n",
    "import numpy as np\n",
    "import re\n",
    "from textblob import TextBlob\n",
    "import matplotlib.pyplot as plt"
   ]
  },
  {
   "cell_type": "markdown",
   "id": "22aec505",
   "metadata": {},
   "source": [
    "### Consumer key and Consumer secret key\n",
    "- Keys are using from credentials file."
   ]
  },
  {
   "cell_type": "code",
   "execution_count": 121,
   "id": "d206730b",
   "metadata": {},
   "outputs": [],
   "source": [
    "twitter= Twython(CONSUMER_KEY, CONSUMER_SECRET)"
   ]
  },
  {
   "cell_type": "markdown",
   "id": "93faf41e",
   "metadata": {},
   "source": [
    "# Create Dataframe by using JSON Normalize"
   ]
  },
  {
   "cell_type": "code",
   "execution_count": 296,
   "id": "5909e253",
   "metadata": {},
   "outputs": [],
   "source": [
    "tweets=pd.json_normalize(twitter.search(q=\"#cricket\",result_type=\"recent\", until='2021-11-15', count=2000)[\"statuses\"])"
   ]
  },
  {
   "cell_type": "code",
   "execution_count": 297,
   "id": "2eecc1cb",
   "metadata": {},
   "outputs": [
    {
     "data": {
      "text/html": [
       "<div>\n",
       "<style scoped>\n",
       "    .dataframe tbody tr th:only-of-type {\n",
       "        vertical-align: middle;\n",
       "    }\n",
       "\n",
       "    .dataframe tbody tr th {\n",
       "        vertical-align: top;\n",
       "    }\n",
       "\n",
       "    .dataframe thead th {\n",
       "        text-align: right;\n",
       "    }\n",
       "</style>\n",
       "<table border=\"1\" class=\"dataframe\">\n",
       "  <thead>\n",
       "    <tr style=\"text-align: right;\">\n",
       "      <th></th>\n",
       "      <th>created_at</th>\n",
       "      <th>id</th>\n",
       "      <th>id_str</th>\n",
       "      <th>text</th>\n",
       "      <th>truncated</th>\n",
       "      <th>source</th>\n",
       "      <th>in_reply_to_status_id</th>\n",
       "      <th>in_reply_to_status_id_str</th>\n",
       "      <th>in_reply_to_user_id</th>\n",
       "      <th>in_reply_to_user_id_str</th>\n",
       "      <th>...</th>\n",
       "      <th>quoted_status.coordinates</th>\n",
       "      <th>quoted_status.place</th>\n",
       "      <th>quoted_status.contributors</th>\n",
       "      <th>quoted_status.is_quote_status</th>\n",
       "      <th>quoted_status.retweet_count</th>\n",
       "      <th>quoted_status.favorite_count</th>\n",
       "      <th>quoted_status.favorited</th>\n",
       "      <th>quoted_status.retweeted</th>\n",
       "      <th>quoted_status.possibly_sensitive</th>\n",
       "      <th>quoted_status.lang</th>\n",
       "    </tr>\n",
       "  </thead>\n",
       "  <tbody>\n",
       "    <tr>\n",
       "      <th>0</th>\n",
       "      <td>Sun Nov 14 23:59:52 +0000 2021</td>\n",
       "      <td>1460034780561645569</td>\n",
       "      <td>1460034780561645569</td>\n",
       "      <td>RT @SajSadiqCricket: T20 World Cup winners:\\n\\...</td>\n",
       "      <td>False</td>\n",
       "      <td>&lt;a href=\"http://twitter.com/download/iphone\" r...</td>\n",
       "      <td>NaN</td>\n",
       "      <td>None</td>\n",
       "      <td>NaN</td>\n",
       "      <td>None</td>\n",
       "      <td>...</td>\n",
       "      <td>NaN</td>\n",
       "      <td>NaN</td>\n",
       "      <td>NaN</td>\n",
       "      <td>NaN</td>\n",
       "      <td>NaN</td>\n",
       "      <td>NaN</td>\n",
       "      <td>NaN</td>\n",
       "      <td>NaN</td>\n",
       "      <td>NaN</td>\n",
       "      <td>NaN</td>\n",
       "    </tr>\n",
       "    <tr>\n",
       "      <th>1</th>\n",
       "      <td>Sun Nov 14 23:59:22 +0000 2021</td>\n",
       "      <td>1460034653193060355</td>\n",
       "      <td>1460034653193060355</td>\n",
       "      <td>RT @QasimKhanSuri: Congratulations to #Austral...</td>\n",
       "      <td>False</td>\n",
       "      <td>&lt;a href=\"http://twitter.com/download/android\" ...</td>\n",
       "      <td>NaN</td>\n",
       "      <td>None</td>\n",
       "      <td>NaN</td>\n",
       "      <td>None</td>\n",
       "      <td>...</td>\n",
       "      <td>NaN</td>\n",
       "      <td>NaN</td>\n",
       "      <td>NaN</td>\n",
       "      <td>NaN</td>\n",
       "      <td>NaN</td>\n",
       "      <td>NaN</td>\n",
       "      <td>NaN</td>\n",
       "      <td>NaN</td>\n",
       "      <td>NaN</td>\n",
       "      <td>NaN</td>\n",
       "    </tr>\n",
       "    <tr>\n",
       "      <th>2</th>\n",
       "      <td>Sun Nov 14 23:59:08 +0000 2021</td>\n",
       "      <td>1460034595890417666</td>\n",
       "      <td>1460034595890417666</td>\n",
       "      <td>RT @amitspeakshere: Heart goes out for @BLACKC...</td>\n",
       "      <td>False</td>\n",
       "      <td>&lt;a href=\"http://twitter.com/download/android\" ...</td>\n",
       "      <td>NaN</td>\n",
       "      <td>None</td>\n",
       "      <td>NaN</td>\n",
       "      <td>None</td>\n",
       "      <td>...</td>\n",
       "      <td>NaN</td>\n",
       "      <td>NaN</td>\n",
       "      <td>NaN</td>\n",
       "      <td>NaN</td>\n",
       "      <td>NaN</td>\n",
       "      <td>NaN</td>\n",
       "      <td>NaN</td>\n",
       "      <td>NaN</td>\n",
       "      <td>NaN</td>\n",
       "      <td>NaN</td>\n",
       "    </tr>\n",
       "  </tbody>\n",
       "</table>\n",
       "<p>3 rows × 245 columns</p>\n",
       "</div>"
      ],
      "text/plain": [
       "                       created_at                   id               id_str  \\\n",
       "0  Sun Nov 14 23:59:52 +0000 2021  1460034780561645569  1460034780561645569   \n",
       "1  Sun Nov 14 23:59:22 +0000 2021  1460034653193060355  1460034653193060355   \n",
       "2  Sun Nov 14 23:59:08 +0000 2021  1460034595890417666  1460034595890417666   \n",
       "\n",
       "                                                text  truncated  \\\n",
       "0  RT @SajSadiqCricket: T20 World Cup winners:\\n\\...      False   \n",
       "1  RT @QasimKhanSuri: Congratulations to #Austral...      False   \n",
       "2  RT @amitspeakshere: Heart goes out for @BLACKC...      False   \n",
       "\n",
       "                                              source  in_reply_to_status_id  \\\n",
       "0  <a href=\"http://twitter.com/download/iphone\" r...                    NaN   \n",
       "1  <a href=\"http://twitter.com/download/android\" ...                    NaN   \n",
       "2  <a href=\"http://twitter.com/download/android\" ...                    NaN   \n",
       "\n",
       "  in_reply_to_status_id_str  in_reply_to_user_id in_reply_to_user_id_str  ...  \\\n",
       "0                      None                  NaN                    None  ...   \n",
       "1                      None                  NaN                    None  ...   \n",
       "2                      None                  NaN                    None  ...   \n",
       "\n",
       "  quoted_status.coordinates quoted_status.place quoted_status.contributors  \\\n",
       "0                       NaN                 NaN                        NaN   \n",
       "1                       NaN                 NaN                        NaN   \n",
       "2                       NaN                 NaN                        NaN   \n",
       "\n",
       "   quoted_status.is_quote_status quoted_status.retweet_count  \\\n",
       "0                            NaN                         NaN   \n",
       "1                            NaN                         NaN   \n",
       "2                            NaN                         NaN   \n",
       "\n",
       "   quoted_status.favorite_count  quoted_status.favorited  \\\n",
       "0                           NaN                      NaN   \n",
       "1                           NaN                      NaN   \n",
       "2                           NaN                      NaN   \n",
       "\n",
       "   quoted_status.retweeted  quoted_status.possibly_sensitive  \\\n",
       "0                      NaN                               NaN   \n",
       "1                      NaN                               NaN   \n",
       "2                      NaN                               NaN   \n",
       "\n",
       "   quoted_status.lang  \n",
       "0                 NaN  \n",
       "1                 NaN  \n",
       "2                 NaN  \n",
       "\n",
       "[3 rows x 245 columns]"
      ]
     },
     "execution_count": 297,
     "metadata": {},
     "output_type": "execute_result"
    }
   ],
   "source": [
    "tweets.head(3)"
   ]
  },
  {
   "cell_type": "markdown",
   "id": "1cfe49d1",
   "metadata": {},
   "source": [
    "# Dataframe Preprocessing"
   ]
  },
  {
   "cell_type": "markdown",
   "id": "5d1272bc",
   "metadata": {},
   "source": [
    "## 245 columns retrieved in dataframe"
   ]
  },
  {
   "cell_type": "code",
   "execution_count": 195,
   "id": "b29714d7",
   "metadata": {},
   "outputs": [
    {
     "data": {
      "text/plain": [
       "Index(['created_at', 'id', 'id_str', 'text', 'truncated', 'source',\n",
       "       'in_reply_to_status_id', 'in_reply_to_status_id_str',\n",
       "       'in_reply_to_user_id', 'in_reply_to_user_id_str',\n",
       "       ...\n",
       "       'quoted_status.coordinates', 'quoted_status.place',\n",
       "       'quoted_status.contributors', 'quoted_status.is_quote_status',\n",
       "       'quoted_status.retweet_count', 'quoted_status.favorite_count',\n",
       "       'quoted_status.favorited', 'quoted_status.retweeted',\n",
       "       'quoted_status.possibly_sensitive', 'quoted_status.lang'],\n",
       "      dtype='object', length=245)"
      ]
     },
     "execution_count": 195,
     "metadata": {},
     "output_type": "execute_result"
    }
   ],
   "source": [
    "tweets.columns"
   ]
  },
  {
   "cell_type": "markdown",
   "id": "0189a0c9",
   "metadata": {},
   "source": [
    "## Read all column names by using Numpy array"
   ]
  },
  {
   "cell_type": "code",
   "execution_count": 196,
   "id": "1fd14755",
   "metadata": {},
   "outputs": [
    {
     "data": {
      "text/plain": [
       "array(['created_at', 'id', 'id_str', 'text', 'truncated', 'source',\n",
       "       'in_reply_to_status_id', 'in_reply_to_status_id_str',\n",
       "       'in_reply_to_user_id', 'in_reply_to_user_id_str',\n",
       "       'in_reply_to_screen_name', 'geo', 'coordinates', 'place',\n",
       "       'contributors', 'is_quote_status', 'retweet_count',\n",
       "       'favorite_count', 'favorited', 'retweeted', 'lang',\n",
       "       'entities.hashtags', 'entities.symbols', 'entities.user_mentions',\n",
       "       'entities.urls', 'metadata.iso_language_code',\n",
       "       'metadata.result_type', 'user.id', 'user.id_str', 'user.name',\n",
       "       'user.screen_name', 'user.location', 'user.description',\n",
       "       'user.url', 'user.entities.description.urls', 'user.protected',\n",
       "       'user.followers_count', 'user.friends_count', 'user.listed_count',\n",
       "       'user.created_at', 'user.favourites_count', 'user.utc_offset',\n",
       "       'user.time_zone', 'user.geo_enabled', 'user.verified',\n",
       "       'user.statuses_count', 'user.lang', 'user.contributors_enabled',\n",
       "       'user.is_translator', 'user.is_translation_enabled',\n",
       "       'user.profile_background_color',\n",
       "       'user.profile_background_image_url',\n",
       "       'user.profile_background_image_url_https',\n",
       "       'user.profile_background_tile', 'user.profile_image_url',\n",
       "       'user.profile_image_url_https', 'user.profile_banner_url',\n",
       "       'user.profile_link_color', 'user.profile_sidebar_border_color',\n",
       "       'user.profile_sidebar_fill_color', 'user.profile_text_color',\n",
       "       'user.profile_use_background_image', 'user.has_extended_profile',\n",
       "       'user.default_profile', 'user.default_profile_image',\n",
       "       'user.following', 'user.follow_request_sent', 'user.notifications',\n",
       "       'user.translator_type', 'user.withheld_in_countries',\n",
       "       'retweeted_status.created_at', 'retweeted_status.id',\n",
       "       'retweeted_status.id_str', 'retweeted_status.text',\n",
       "       'retweeted_status.truncated', 'retweeted_status.entities.hashtags',\n",
       "       'retweeted_status.entities.symbols',\n",
       "       'retweeted_status.entities.user_mentions',\n",
       "       'retweeted_status.entities.urls',\n",
       "       'retweeted_status.metadata.iso_language_code',\n",
       "       'retweeted_status.metadata.result_type', 'retweeted_status.source',\n",
       "       'retweeted_status.in_reply_to_status_id',\n",
       "       'retweeted_status.in_reply_to_status_id_str',\n",
       "       'retweeted_status.in_reply_to_user_id',\n",
       "       'retweeted_status.in_reply_to_user_id_str',\n",
       "       'retweeted_status.in_reply_to_screen_name',\n",
       "       'retweeted_status.user.id', 'retweeted_status.user.id_str',\n",
       "       'retweeted_status.user.name', 'retweeted_status.user.screen_name',\n",
       "       'retweeted_status.user.location',\n",
       "       'retweeted_status.user.description', 'retweeted_status.user.url',\n",
       "       'retweeted_status.user.entities.url.urls',\n",
       "       'retweeted_status.user.entities.description.urls',\n",
       "       'retweeted_status.user.protected',\n",
       "       'retweeted_status.user.followers_count',\n",
       "       'retweeted_status.user.friends_count',\n",
       "       'retweeted_status.user.listed_count',\n",
       "       'retweeted_status.user.created_at',\n",
       "       'retweeted_status.user.favourites_count',\n",
       "       'retweeted_status.user.utc_offset',\n",
       "       'retweeted_status.user.time_zone',\n",
       "       'retweeted_status.user.geo_enabled',\n",
       "       'retweeted_status.user.verified',\n",
       "       'retweeted_status.user.statuses_count',\n",
       "       'retweeted_status.user.lang',\n",
       "       'retweeted_status.user.contributors_enabled',\n",
       "       'retweeted_status.user.is_translator',\n",
       "       'retweeted_status.user.is_translation_enabled',\n",
       "       'retweeted_status.user.profile_background_color',\n",
       "       'retweeted_status.user.profile_background_image_url',\n",
       "       'retweeted_status.user.profile_background_image_url_https',\n",
       "       'retweeted_status.user.profile_background_tile',\n",
       "       'retweeted_status.user.profile_image_url',\n",
       "       'retweeted_status.user.profile_image_url_https',\n",
       "       'retweeted_status.user.profile_banner_url',\n",
       "       'retweeted_status.user.profile_link_color',\n",
       "       'retweeted_status.user.profile_sidebar_border_color',\n",
       "       'retweeted_status.user.profile_sidebar_fill_color',\n",
       "       'retweeted_status.user.profile_text_color',\n",
       "       'retweeted_status.user.profile_use_background_image',\n",
       "       'retweeted_status.user.has_extended_profile',\n",
       "       'retweeted_status.user.default_profile',\n",
       "       'retweeted_status.user.default_profile_image',\n",
       "       'retweeted_status.user.following',\n",
       "       'retweeted_status.user.follow_request_sent',\n",
       "       'retweeted_status.user.notifications',\n",
       "       'retweeted_status.user.translator_type',\n",
       "       'retweeted_status.user.withheld_in_countries',\n",
       "       'retweeted_status.geo', 'retweeted_status.coordinates',\n",
       "       'retweeted_status.place', 'retweeted_status.contributors',\n",
       "       'retweeted_status.is_quote_status',\n",
       "       'retweeted_status.retweet_count',\n",
       "       'retweeted_status.favorite_count', 'retweeted_status.favorited',\n",
       "       'retweeted_status.retweeted', 'retweeted_status.lang',\n",
       "       'user.entities.url.urls', 'possibly_sensitive',\n",
       "       'retweeted_status.possibly_sensitive', 'retweeted_status.place.id',\n",
       "       'retweeted_status.place.url', 'retweeted_status.place.place_type',\n",
       "       'retweeted_status.place.name', 'retweeted_status.place.full_name',\n",
       "       'retweeted_status.place.country_code',\n",
       "       'retweeted_status.place.country',\n",
       "       'retweeted_status.place.contained_within',\n",
       "       'retweeted_status.place.bounding_box.type',\n",
       "       'retweeted_status.place.bounding_box.coordinates',\n",
       "       'entities.media', 'extended_entities.media',\n",
       "       'retweeted_status.entities.media',\n",
       "       'retweeted_status.extended_entities.media',\n",
       "       'withheld_in_countries', 'place.id', 'place.url',\n",
       "       'place.place_type', 'place.name', 'place.full_name',\n",
       "       'place.country_code', 'place.country', 'place.contained_within',\n",
       "       'place.bounding_box.type', 'place.bounding_box.coordinates',\n",
       "       'quoted_status_id', 'quoted_status_id_str',\n",
       "       'quoted_status.created_at', 'quoted_status.id',\n",
       "       'quoted_status.id_str', 'quoted_status.text',\n",
       "       'quoted_status.truncated', 'quoted_status.entities.hashtags',\n",
       "       'quoted_status.entities.symbols',\n",
       "       'quoted_status.entities.user_mentions',\n",
       "       'quoted_status.entities.urls', 'quoted_status.entities.media',\n",
       "       'quoted_status.extended_entities.media',\n",
       "       'quoted_status.metadata.iso_language_code',\n",
       "       'quoted_status.metadata.result_type', 'quoted_status.source',\n",
       "       'quoted_status.in_reply_to_status_id',\n",
       "       'quoted_status.in_reply_to_status_id_str',\n",
       "       'quoted_status.in_reply_to_user_id',\n",
       "       'quoted_status.in_reply_to_user_id_str',\n",
       "       'quoted_status.in_reply_to_screen_name', 'quoted_status.user.id',\n",
       "       'quoted_status.user.id_str', 'quoted_status.user.name',\n",
       "       'quoted_status.user.screen_name', 'quoted_status.user.location',\n",
       "       'quoted_status.user.description', 'quoted_status.user.url',\n",
       "       'quoted_status.user.entities.url.urls',\n",
       "       'quoted_status.user.entities.description.urls',\n",
       "       'quoted_status.user.protected',\n",
       "       'quoted_status.user.followers_count',\n",
       "       'quoted_status.user.friends_count',\n",
       "       'quoted_status.user.listed_count', 'quoted_status.user.created_at',\n",
       "       'quoted_status.user.favourites_count',\n",
       "       'quoted_status.user.utc_offset', 'quoted_status.user.time_zone',\n",
       "       'quoted_status.user.geo_enabled', 'quoted_status.user.verified',\n",
       "       'quoted_status.user.statuses_count', 'quoted_status.user.lang',\n",
       "       'quoted_status.user.contributors_enabled',\n",
       "       'quoted_status.user.is_translator',\n",
       "       'quoted_status.user.is_translation_enabled',\n",
       "       'quoted_status.user.profile_background_color',\n",
       "       'quoted_status.user.profile_background_image_url',\n",
       "       'quoted_status.user.profile_background_image_url_https',\n",
       "       'quoted_status.user.profile_background_tile',\n",
       "       'quoted_status.user.profile_image_url',\n",
       "       'quoted_status.user.profile_image_url_https',\n",
       "       'quoted_status.user.profile_banner_url',\n",
       "       'quoted_status.user.profile_link_color',\n",
       "       'quoted_status.user.profile_sidebar_border_color',\n",
       "       'quoted_status.user.profile_sidebar_fill_color',\n",
       "       'quoted_status.user.profile_text_color',\n",
       "       'quoted_status.user.profile_use_background_image',\n",
       "       'quoted_status.user.has_extended_profile',\n",
       "       'quoted_status.user.default_profile',\n",
       "       'quoted_status.user.default_profile_image',\n",
       "       'quoted_status.user.following',\n",
       "       'quoted_status.user.follow_request_sent',\n",
       "       'quoted_status.user.notifications',\n",
       "       'quoted_status.user.translator_type',\n",
       "       'quoted_status.user.withheld_in_countries', 'quoted_status.geo',\n",
       "       'quoted_status.coordinates', 'quoted_status.place',\n",
       "       'quoted_status.contributors', 'quoted_status.is_quote_status',\n",
       "       'quoted_status.retweet_count', 'quoted_status.favorite_count',\n",
       "       'quoted_status.favorited', 'quoted_status.retweeted',\n",
       "       'quoted_status.possibly_sensitive', 'quoted_status.lang'],\n",
       "      dtype=object)"
      ]
     },
     "execution_count": 196,
     "metadata": {},
     "output_type": "execute_result"
    }
   ],
   "source": [
    "np.array(tweets.columns)"
   ]
  },
  {
   "cell_type": "markdown",
   "id": "4468b837",
   "metadata": {},
   "source": [
    "## Selected only 9 Relevant Column"
   ]
  },
  {
   "cell_type": "code",
   "execution_count": 298,
   "id": "b093f723",
   "metadata": {},
   "outputs": [],
   "source": [
    "col_list = ['id', 'created_at', 'text', 'source','retweet_count', 'user.screen_name', 'user.location','user.created_at','user.followers_count']"
   ]
  },
  {
   "cell_type": "code",
   "execution_count": 299,
   "id": "0eca8ab7",
   "metadata": {},
   "outputs": [],
   "source": [
    "df_tweets=tweets[col_list]"
   ]
  },
  {
   "cell_type": "code",
   "execution_count": 300,
   "id": "b1fd4459",
   "metadata": {},
   "outputs": [
    {
     "data": {
      "text/html": [
       "<div>\n",
       "<style scoped>\n",
       "    .dataframe tbody tr th:only-of-type {\n",
       "        vertical-align: middle;\n",
       "    }\n",
       "\n",
       "    .dataframe tbody tr th {\n",
       "        vertical-align: top;\n",
       "    }\n",
       "\n",
       "    .dataframe thead th {\n",
       "        text-align: right;\n",
       "    }\n",
       "</style>\n",
       "<table border=\"1\" class=\"dataframe\">\n",
       "  <thead>\n",
       "    <tr style=\"text-align: right;\">\n",
       "      <th></th>\n",
       "      <th>id</th>\n",
       "      <th>created_at</th>\n",
       "      <th>text</th>\n",
       "      <th>source</th>\n",
       "      <th>retweet_count</th>\n",
       "      <th>user.screen_name</th>\n",
       "      <th>user.location</th>\n",
       "      <th>user.created_at</th>\n",
       "      <th>user.followers_count</th>\n",
       "    </tr>\n",
       "  </thead>\n",
       "  <tbody>\n",
       "    <tr>\n",
       "      <th>0</th>\n",
       "      <td>1460034780561645569</td>\n",
       "      <td>Sun Nov 14 23:59:52 +0000 2021</td>\n",
       "      <td>RT @SajSadiqCricket: T20 World Cup winners:\\n\\...</td>\n",
       "      <td>&lt;a href=\"http://twitter.com/download/iphone\" r...</td>\n",
       "      <td>212</td>\n",
       "      <td>oblmir</td>\n",
       "      <td>The North</td>\n",
       "      <td>Sun May 23 14:34:06 +0000 2021</td>\n",
       "      <td>491</td>\n",
       "    </tr>\n",
       "  </tbody>\n",
       "</table>\n",
       "</div>"
      ],
      "text/plain": [
       "                    id                      created_at  \\\n",
       "0  1460034780561645569  Sun Nov 14 23:59:52 +0000 2021   \n",
       "\n",
       "                                                text  \\\n",
       "0  RT @SajSadiqCricket: T20 World Cup winners:\\n\\...   \n",
       "\n",
       "                                              source  retweet_count  \\\n",
       "0  <a href=\"http://twitter.com/download/iphone\" r...            212   \n",
       "\n",
       "  user.screen_name user.location                 user.created_at  \\\n",
       "0           oblmir     The North  Sun May 23 14:34:06 +0000 2021   \n",
       "\n",
       "   user.followers_count  \n",
       "0                   491  "
      ]
     },
     "execution_count": 300,
     "metadata": {},
     "output_type": "execute_result"
    }
   ],
   "source": [
    "df_tweets.head(1)"
   ]
  },
  {
   "cell_type": "markdown",
   "id": "6001ab19",
   "metadata": {},
   "source": [
    "## Using Regular Expression on Source column to readable the source"
   ]
  },
  {
   "cell_type": "code",
   "execution_count": 307,
   "id": "bf8fab1d",
   "metadata": {},
   "outputs": [
    {
     "name": "stdout",
     "output_type": "stream",
     "text": [
      "['Twitter for iPhone']\n"
     ]
    }
   ],
   "source": [
    "print(re.findall(r\"Twitter for.\\w+\", df_tweets.source[0]))"
   ]
  },
  {
   "cell_type": "code",
   "execution_count": 308,
   "id": "f7af05c1",
   "metadata": {},
   "outputs": [
    {
     "name": "stderr",
     "output_type": "stream",
     "text": [
      "<ipython-input-308-cef4b3ddb237>:1: SettingWithCopyWarning: \n",
      "A value is trying to be set on a copy of a slice from a DataFrame.\n",
      "Try using .loc[row_indexer,col_indexer] = value instead\n",
      "\n",
      "See the caveats in the documentation: https://pandas.pydata.org/pandas-docs/stable/user_guide/indexing.html#returning-a-view-versus-a-copy\n",
      "  df_tweets['source'] =  [re.findall(r\"Twitter for.\\w+\", str(x)) for x in df_tweets['source']]\n"
     ]
    }
   ],
   "source": [
    "df_tweets['source'] =  [re.findall(r\"Twitter for.\\w+\", str(x)) for x in df_tweets['source']]"
   ]
  },
  {
   "cell_type": "code",
   "execution_count": 309,
   "id": "15973493",
   "metadata": {},
   "outputs": [
    {
     "data": {
      "text/html": [
       "<div>\n",
       "<style scoped>\n",
       "    .dataframe tbody tr th:only-of-type {\n",
       "        vertical-align: middle;\n",
       "    }\n",
       "\n",
       "    .dataframe tbody tr th {\n",
       "        vertical-align: top;\n",
       "    }\n",
       "\n",
       "    .dataframe thead th {\n",
       "        text-align: right;\n",
       "    }\n",
       "</style>\n",
       "<table border=\"1\" class=\"dataframe\">\n",
       "  <thead>\n",
       "    <tr style=\"text-align: right;\">\n",
       "      <th></th>\n",
       "      <th>id</th>\n",
       "      <th>created_at</th>\n",
       "      <th>text</th>\n",
       "      <th>source</th>\n",
       "      <th>retweet_count</th>\n",
       "      <th>user.screen_name</th>\n",
       "      <th>user.location</th>\n",
       "      <th>user.created_at</th>\n",
       "      <th>user.followers_count</th>\n",
       "    </tr>\n",
       "  </thead>\n",
       "  <tbody>\n",
       "    <tr>\n",
       "      <th>0</th>\n",
       "      <td>1460034780561645569</td>\n",
       "      <td>Sun Nov 14 23:59:52 +0000 2021</td>\n",
       "      <td>RT @SajSadiqCricket: T20 World Cup winners:\\n\\...</td>\n",
       "      <td>[Twitter for iPhone]</td>\n",
       "      <td>212</td>\n",
       "      <td>oblmir</td>\n",
       "      <td>The North</td>\n",
       "      <td>Sun May 23 14:34:06 +0000 2021</td>\n",
       "      <td>491</td>\n",
       "    </tr>\n",
       "    <tr>\n",
       "      <th>1</th>\n",
       "      <td>1460034653193060355</td>\n",
       "      <td>Sun Nov 14 23:59:22 +0000 2021</td>\n",
       "      <td>RT @QasimKhanSuri: Congratulations to #Austral...</td>\n",
       "      <td>[Twitter for Android]</td>\n",
       "      <td>46</td>\n",
       "      <td>TeamQasimSuri</td>\n",
       "      <td>Pakistan</td>\n",
       "      <td>Fri Dec 14 22:28:51 +0000 2018</td>\n",
       "      <td>2611</td>\n",
       "    </tr>\n",
       "    <tr>\n",
       "      <th>2</th>\n",
       "      <td>1460034595890417666</td>\n",
       "      <td>Sun Nov 14 23:59:08 +0000 2021</td>\n",
       "      <td>RT @amitspeakshere: Heart goes out for @BLACKC...</td>\n",
       "      <td>[Twitter for Android]</td>\n",
       "      <td>1</td>\n",
       "      <td>ssshree330</td>\n",
       "      <td></td>\n",
       "      <td>Thu Aug 12 16:51:31 +0000 2021</td>\n",
       "      <td>16</td>\n",
       "    </tr>\n",
       "    <tr>\n",
       "      <th>3</th>\n",
       "      <td>1460034379221241858</td>\n",
       "      <td>Sun Nov 14 23:58:16 +0000 2021</td>\n",
       "      <td>Glenn Maxwell &amp;amp; Haris Rauf gifted T20 Worl...</td>\n",
       "      <td>[Twitter for Android]</td>\n",
       "      <td>0</td>\n",
       "      <td>Zaibi_oo8</td>\n",
       "      <td>Punjab, Pakistan</td>\n",
       "      <td>Fri Oct 03 13:25:43 +0000 2014</td>\n",
       "      <td>378</td>\n",
       "    </tr>\n",
       "    <tr>\n",
       "      <th>4</th>\n",
       "      <td>1460034107958706176</td>\n",
       "      <td>Sun Nov 14 23:57:12 +0000 2021</td>\n",
       "      <td>RT @20pratyush: There was a time when I though...</td>\n",
       "      <td>[Twitter for Android]</td>\n",
       "      <td>1</td>\n",
       "      <td>ssshree330</td>\n",
       "      <td></td>\n",
       "      <td>Thu Aug 12 16:51:31 +0000 2021</td>\n",
       "      <td>16</td>\n",
       "    </tr>\n",
       "  </tbody>\n",
       "</table>\n",
       "</div>"
      ],
      "text/plain": [
       "                    id                      created_at  \\\n",
       "0  1460034780561645569  Sun Nov 14 23:59:52 +0000 2021   \n",
       "1  1460034653193060355  Sun Nov 14 23:59:22 +0000 2021   \n",
       "2  1460034595890417666  Sun Nov 14 23:59:08 +0000 2021   \n",
       "3  1460034379221241858  Sun Nov 14 23:58:16 +0000 2021   \n",
       "4  1460034107958706176  Sun Nov 14 23:57:12 +0000 2021   \n",
       "\n",
       "                                                text                 source  \\\n",
       "0  RT @SajSadiqCricket: T20 World Cup winners:\\n\\...   [Twitter for iPhone]   \n",
       "1  RT @QasimKhanSuri: Congratulations to #Austral...  [Twitter for Android]   \n",
       "2  RT @amitspeakshere: Heart goes out for @BLACKC...  [Twitter for Android]   \n",
       "3  Glenn Maxwell &amp; Haris Rauf gifted T20 Worl...  [Twitter for Android]   \n",
       "4  RT @20pratyush: There was a time when I though...  [Twitter for Android]   \n",
       "\n",
       "   retweet_count user.screen_name     user.location  \\\n",
       "0            212           oblmir         The North   \n",
       "1             46    TeamQasimSuri         Pakistan    \n",
       "2              1       ssshree330                     \n",
       "3              0        Zaibi_oo8  Punjab, Pakistan   \n",
       "4              1       ssshree330                     \n",
       "\n",
       "                  user.created_at  user.followers_count  \n",
       "0  Sun May 23 14:34:06 +0000 2021                   491  \n",
       "1  Fri Dec 14 22:28:51 +0000 2018                  2611  \n",
       "2  Thu Aug 12 16:51:31 +0000 2021                    16  \n",
       "3  Fri Oct 03 13:25:43 +0000 2014                   378  \n",
       "4  Thu Aug 12 16:51:31 +0000 2021                    16  "
      ]
     },
     "execution_count": 309,
     "metadata": {},
     "output_type": "execute_result"
    }
   ],
   "source": [
    "df_tweets.head()"
   ]
  },
  {
   "cell_type": "markdown",
   "id": "d807ceaa",
   "metadata": {},
   "source": [
    "# Extract Tweets Text"
   ]
  },
  {
   "cell_type": "code",
   "execution_count": 321,
   "id": "09e96991",
   "metadata": {},
   "outputs": [
    {
     "data": {
      "text/plain": [
       "0     RT @SajSadiqCricket: T20 World Cup winners:\\n\\...\n",
       "1     RT @QasimKhanSuri: Congratulations to #Austral...\n",
       "2     RT @amitspeakshere: Heart goes out for @BLACKC...\n",
       "3     Glenn Maxwell &amp; Haris Rauf gifted T20 Worl...\n",
       "4     RT @20pratyush: There was a time when I though...\n",
       "                            ...                        \n",
       "95    now as the 2021 T20 world cup is in history bo...\n",
       "96    - Congratulations Australia 🇦🇺 \\n\\nDeserving C...\n",
       "97    RT @realshoaibmalik: - Congratulations Austral...\n",
       "98    RT @TBCT1996: Great 2021 presentation event at...\n",
       "99    Most runs at the T20 World Cup:\\n\\nBabar Azam ...\n",
       "Name: text, Length: 100, dtype: object"
      ]
     },
     "execution_count": 321,
     "metadata": {},
     "output_type": "execute_result"
    }
   ],
   "source": [
    "df_tweets.text[0:]"
   ]
  },
  {
   "cell_type": "markdown",
   "id": "3b7cbdfe",
   "metadata": {},
   "source": [
    "# Retweet Findings"
   ]
  },
  {
   "cell_type": "code",
   "execution_count": 229,
   "id": "ad737e47",
   "metadata": {},
   "outputs": [],
   "source": [
    "retweet_max  = np.max(df_tweets['retweet_count'])\n",
    "retweet  = df_tweets[df_tweets == retweet_max].index[0]"
   ]
  },
  {
   "cell_type": "markdown",
   "id": "95457585",
   "metadata": {},
   "source": [
    "## Maximum Retweeted"
   ]
  },
  {
   "cell_type": "code",
   "execution_count": 231,
   "id": "9f45b369",
   "metadata": {},
   "outputs": [
    {
     "name": "stdout",
     "output_type": "stream",
     "text": [
      "The tweet with more retweets is: \n",
      "RT @SajSadiqCricket: T20 World Cup winners:\n",
      "\n",
      "2007 India\n",
      "2009 Pakistan\n",
      "2010 England\n",
      "2012 West Indies\n",
      "2014 Sri Lanka\n",
      "2016 West Indies\n",
      "2021 Au…\n",
      "Number of retweets: 1008\n"
     ]
    }
   ],
   "source": [
    "print(\"The tweet with more retweets is: \\n{}\".format(df_tweets['text'][retweet]))\n",
    "print(\"Number of retweets:\", retweet_max)"
   ]
  },
  {
   "cell_type": "markdown",
   "id": "3628703b",
   "metadata": {},
   "source": [
    "## Relationship between User followers and their retweet\n",
    "- Findings:\n",
    "    - Retweet doesn't really depend on the number of followers\n",
    "    - Some users have less followers but their retweets are high"
   ]
  },
  {
   "cell_type": "code",
   "execution_count": 249,
   "id": "2445ad8d",
   "metadata": {},
   "outputs": [
    {
     "data": {
      "text/plain": [
       "<AxesSubplot:xlabel='user.followers_count', ylabel='retweet_count'>"
      ]
     },
     "execution_count": 249,
     "metadata": {},
     "output_type": "execute_result"
    },
    {
     "data": {
      "image/png": "[encoded data removed]",
      "text/plain": [
       "<Figure size 432x288 with 1 Axes>"
      ]
     },
     "metadata": {
      "needs_background": "light"
     },
     "output_type": "display_data"
    }
   ],
   "source": [
    "df_tweets.plot.scatter(x='user.followers_count', y='retweet_count')"
   ]
  },
  {
   "cell_type": "code",
   "execution_count": null,
   "id": "2b67072c",
   "metadata": {},
   "outputs": [],
   "source": []
  },
  {
   "cell_type": "markdown",
   "id": "568a982d",
   "metadata": {},
   "source": [
    "# Sentimental Analysis\n",
    "- Sentiment Analysis is the process of determining whether a piece of writing is positive, negative or neutral."
   ]
  },
  {
   "cell_type": "markdown",
   "id": "8eb874d6",
   "metadata": {},
   "source": [
    "## Cleaning of Tweets "
   ]
  },
  {
   "cell_type": "code",
   "execution_count": 325,
   "id": "051c41d6",
   "metadata": {},
   "outputs": [],
   "source": [
    "def clean_tweet(tweet):\n",
    "    '''\n",
    "    Utility function to clean the text in a tweet by removing \n",
    "    links and special characters using regex.\n",
    "    '''\n",
    "    return ' '.join(re.sub(\"(@[A-Za-z0-9]+)|([^0-9A-Za-z \\t])|(\\w+:\\/\\/\\S+)\", \" \", tweet).split())"
   ]
  },
  {
   "cell_type": "markdown",
   "id": "2ebb8bbf",
   "metadata": {},
   "source": [
    "## Finding Polarity by using TextBlob library"
   ]
  },
  {
   "cell_type": "code",
   "execution_count": 333,
   "id": "6092a655",
   "metadata": {},
   "outputs": [],
   "source": [
    "def analyse_sentiment(tweet):\n",
    "    '''\n",
    "    Utility function to classify the polarity of a tweet\n",
    "    using textblob.\n",
    "    '''\n",
    "    analysis = TextBlob(clean_tweet(tweet))\n",
    "    if analysis.sentiment.polarity > 0:\n",
    "        return 1\n",
    "    elif analysis.sentiment.polarity == 0:\n",
    "        return 0\n",
    "    else:\n",
    "        return -1"
   ]
  },
  {
   "cell_type": "code",
   "execution_count": 334,
   "id": "36fd4edb",
   "metadata": {},
   "outputs": [
    {
     "name": "stderr",
     "output_type": "stream",
     "text": [
      "<ipython-input-334-27fc9caaf83a>:1: SettingWithCopyWarning: \n",
      "A value is trying to be set on a copy of a slice from a DataFrame.\n",
      "Try using .loc[row_indexer,col_indexer] = value instead\n",
      "\n",
      "See the caveats in the documentation: https://pandas.pydata.org/pandas-docs/stable/user_guide/indexing.html#returning-a-view-versus-a-copy\n",
      "  df_tweets['Sentiment_findings'] = np.array([ analyse_sentiment(tweet) for tweet in df_tweets['text'] ])\n"
     ]
    }
   ],
   "source": [
    "df_tweets['Sentiment_findings'] = np.array([ analyse_sentiment(tweet) for tweet in df_tweets['text'] ])"
   ]
  },
  {
   "cell_type": "code",
   "execution_count": 335,
   "id": "7d8f7d59",
   "metadata": {
    "scrolled": true
   },
   "outputs": [
    {
     "data": {
      "text/html": [
       "<div>\n",
       "<style scoped>\n",
       "    .dataframe tbody tr th:only-of-type {\n",
       "        vertical-align: middle;\n",
       "    }\n",
       "\n",
       "    .dataframe tbody tr th {\n",
       "        vertical-align: top;\n",
       "    }\n",
       "\n",
       "    .dataframe thead th {\n",
       "        text-align: right;\n",
       "    }\n",
       "</style>\n",
       "<table border=\"1\" class=\"dataframe\">\n",
       "  <thead>\n",
       "    <tr style=\"text-align: right;\">\n",
       "      <th></th>\n",
       "      <th>id</th>\n",
       "      <th>created_at</th>\n",
       "      <th>text</th>\n",
       "      <th>source</th>\n",
       "      <th>retweet_count</th>\n",
       "      <th>user.screen_name</th>\n",
       "      <th>user.location</th>\n",
       "      <th>user.created_at</th>\n",
       "      <th>user.followers_count</th>\n",
       "      <th>Sentiment_findings</th>\n",
       "    </tr>\n",
       "  </thead>\n",
       "  <tbody>\n",
       "    <tr>\n",
       "      <th>0</th>\n",
       "      <td>1460034780561645569</td>\n",
       "      <td>Sun Nov 14 23:59:52 +0000 2021</td>\n",
       "      <td>RT @SajSadiqCricket: T20 World Cup winners:\\n\\...</td>\n",
       "      <td>[Twitter for iPhone]</td>\n",
       "      <td>212</td>\n",
       "      <td>oblmir</td>\n",
       "      <td>The North</td>\n",
       "      <td>Sun May 23 14:34:06 +0000 2021</td>\n",
       "      <td>491</td>\n",
       "      <td>0</td>\n",
       "    </tr>\n",
       "    <tr>\n",
       "      <th>1</th>\n",
       "      <td>1460034653193060355</td>\n",
       "      <td>Sun Nov 14 23:59:22 +0000 2021</td>\n",
       "      <td>RT @QasimKhanSuri: Congratulations to #Austral...</td>\n",
       "      <td>[Twitter for Android]</td>\n",
       "      <td>46</td>\n",
       "      <td>TeamQasimSuri</td>\n",
       "      <td>Pakistan</td>\n",
       "      <td>Fri Dec 14 22:28:51 +0000 2018</td>\n",
       "      <td>2611</td>\n",
       "      <td>1</td>\n",
       "    </tr>\n",
       "    <tr>\n",
       "      <th>2</th>\n",
       "      <td>1460034595890417666</td>\n",
       "      <td>Sun Nov 14 23:59:08 +0000 2021</td>\n",
       "      <td>RT @amitspeakshere: Heart goes out for @BLACKC...</td>\n",
       "      <td>[Twitter for Android]</td>\n",
       "      <td>1</td>\n",
       "      <td>ssshree330</td>\n",
       "      <td></td>\n",
       "      <td>Thu Aug 12 16:51:31 +0000 2021</td>\n",
       "      <td>16</td>\n",
       "      <td>1</td>\n",
       "    </tr>\n",
       "    <tr>\n",
       "      <th>3</th>\n",
       "      <td>1460034379221241858</td>\n",
       "      <td>Sun Nov 14 23:58:16 +0000 2021</td>\n",
       "      <td>Glenn Maxwell &amp;amp; Haris Rauf gifted T20 Worl...</td>\n",
       "      <td>[Twitter for Android]</td>\n",
       "      <td>0</td>\n",
       "      <td>Zaibi_oo8</td>\n",
       "      <td>Punjab, Pakistan</td>\n",
       "      <td>Fri Oct 03 13:25:43 +0000 2014</td>\n",
       "      <td>378</td>\n",
       "      <td>1</td>\n",
       "    </tr>\n",
       "    <tr>\n",
       "      <th>4</th>\n",
       "      <td>1460034107958706176</td>\n",
       "      <td>Sun Nov 14 23:57:12 +0000 2021</td>\n",
       "      <td>RT @20pratyush: There was a time when I though...</td>\n",
       "      <td>[Twitter for Android]</td>\n",
       "      <td>1</td>\n",
       "      <td>ssshree330</td>\n",
       "      <td></td>\n",
       "      <td>Thu Aug 12 16:51:31 +0000 2021</td>\n",
       "      <td>16</td>\n",
       "      <td>-1</td>\n",
       "    </tr>\n",
       "  </tbody>\n",
       "</table>\n",
       "</div>"
      ],
      "text/plain": [
       "                    id                      created_at  \\\n",
       "0  1460034780561645569  Sun Nov 14 23:59:52 +0000 2021   \n",
       "1  1460034653193060355  Sun Nov 14 23:59:22 +0000 2021   \n",
       "2  1460034595890417666  Sun Nov 14 23:59:08 +0000 2021   \n",
       "3  1460034379221241858  Sun Nov 14 23:58:16 +0000 2021   \n",
       "4  1460034107958706176  Sun Nov 14 23:57:12 +0000 2021   \n",
       "\n",
       "                                                text                 source  \\\n",
       "0  RT @SajSadiqCricket: T20 World Cup winners:\\n\\...   [Twitter for iPhone]   \n",
       "1  RT @QasimKhanSuri: Congratulations to #Austral...  [Twitter for Android]   \n",
       "2  RT @amitspeakshere: Heart goes out for @BLACKC...  [Twitter for Android]   \n",
       "3  Glenn Maxwell &amp; Haris Rauf gifted T20 Worl...  [Twitter for Android]   \n",
       "4  RT @20pratyush: There was a time when I though...  [Twitter for Android]   \n",
       "\n",
       "   retweet_count user.screen_name     user.location  \\\n",
       "0            212           oblmir         The North   \n",
       "1             46    TeamQasimSuri         Pakistan    \n",
       "2              1       ssshree330                     \n",
       "3              0        Zaibi_oo8  Punjab, Pakistan   \n",
       "4              1       ssshree330                     \n",
       "\n",
       "                  user.created_at  user.followers_count  Sentiment_findings  \n",
       "0  Sun May 23 14:34:06 +0000 2021                   491                   0  \n",
       "1  Fri Dec 14 22:28:51 +0000 2018                  2611                   1  \n",
       "2  Thu Aug 12 16:51:31 +0000 2021                    16                   1  \n",
       "3  Fri Oct 03 13:25:43 +0000 2014                   378                   1  \n",
       "4  Thu Aug 12 16:51:31 +0000 2021                    16                  -1  "
      ]
     },
     "execution_count": 335,
     "metadata": {},
     "output_type": "execute_result"
    }
   ],
   "source": [
    "df_tweets.head()"
   ]
  },
  {
   "cell_type": "code",
   "execution_count": 347,
   "id": "8c12bb0f",
   "metadata": {},
   "outputs": [
    {
     "data": {
      "text/plain": [
       " 1    61\n",
       " 0    35\n",
       "-1     4\n",
       "Name: Sentiment_findings, dtype: int64"
      ]
     },
     "execution_count": 347,
     "metadata": {},
     "output_type": "execute_result"
    }
   ],
   "source": [
    "df_tweets['Sentiment_findings'].value_counts()"
   ]
  },
  {
   "cell_type": "markdown",
   "id": "69e2dcab",
   "metadata": {},
   "source": [
    "## Classification of Tweets based on Polarity"
   ]
  },
  {
   "cell_type": "code",
   "execution_count": 373,
   "id": "68f55d2f",
   "metadata": {},
   "outputs": [],
   "source": [
    "positive = [ tweet for index, tweet in enumerate(df_tweets['text']) if df_tweets['Sentiment_findings'][index] > 0]\n",
    "neutral = [ tweet for index, tweet in enumerate(df_tweets['text']) if df_tweets['Sentiment_findings'][index] == 0]\n",
    "negative = [ tweet for index, tweet in enumerate(df_tweets['text']) if df_tweets['Sentiment_findings'][index] < 0]"
   ]
  },
  {
   "cell_type": "code",
   "execution_count": 395,
   "id": "d1e6e888",
   "metadata": {},
   "outputs": [
    {
     "data": {
      "text/plain": [
       "['RT @20pratyush: There was a time when I thought that though #Kane is a class player, he is not meant for #T20 cricket.\\n\\nHE PROVED ME WRONG!…',\n",
       " 'Tamim Iqbal has been ruled out from the series against Pakistan due to a broken thumb #BANvPAK #Cricket',\n",
       " 'Player of the tournament is only Babar Azam...who deserve,we rejected this fucking decision of ICC… https://t.co/xC1jcLRmpG',\n",
       " 'RT @TryPlotX: The final show-down is here! It has finally come down to #NewZealand  &amp; #Australia squaring up in the #T20WorldCupFinal \\n\\nHer…']"
      ]
     },
     "execution_count": 395,
     "metadata": {},
     "output_type": "execute_result"
    }
   ],
   "source": [
    "negative"
   ]
  },
  {
   "cell_type": "markdown",
   "id": "5471967f",
   "metadata": {},
   "source": [
    "# Sentiment Findings Visualization "
   ]
  },
  {
   "cell_type": "markdown",
   "id": "395b277e",
   "metadata": {},
   "source": [
    "## Pie Chart Visualization"
   ]
  },
  {
   "cell_type": "code",
   "execution_count": 392,
   "id": "06470a53",
   "metadata": {},
   "outputs": [
    {
     "data": {
      "image/png": "[encoded data removed]",
      "text/plain": [
       "<Figure size 432x288 with 1 Axes>"
      ]
     },
     "metadata": {},
     "output_type": "display_data"
    }
   ],
   "source": [
    "Pos = len(positive)/len(df_tweets.index) * 100\n",
    "Neu = len(neutral)/len(df_tweets.index) * 100\n",
    "Neg = len(negative)/len(df_tweets.index) * 100\n",
    "\n",
    "labels = ['Positive: ' +str(Pos)+'%' , 'Neutral: '+str(Neu)+'%' ,'Negative: '+str(Neg)+'%']\n",
    "sizes = [Pos, Neu, Neg]\n",
    "patches, texts = plt.pie(sizes, startangle=90)\n",
    "plt.legend(labels)\n",
    "plt.title( 'Cricket Trend Sentiment Analysis- Pie Chart' )\n",
    "plt.axis('equal')\n",
    "plt.show()"
   ]
  },
  {
   "cell_type": "markdown",
   "id": "01089db6",
   "metadata": {},
   "source": [
    "## Bar Plot Visualization"
   ]
  },
  {
   "cell_type": "code",
   "execution_count": 346,
   "id": "4cdf4956",
   "metadata": {},
   "outputs": [
    {
     "data": {
      "image/png": "[encoded data removed]",
      "text/plain": [
       "<Figure size 432x288 with 1 Axes>"
      ]
     },
     "metadata": {
      "needs_background": "light"
     },
     "output_type": "display_data"
    }
   ],
   "source": [
    "df_tweets['Sentiment_findings'].value_counts().plot(kind='bar')\n",
    "plt.title(\"Cricket Tweets Sentiment Analysis\")\n",
    "plt.xlabel(\"Sentiments\")\n",
    "plt.ylabel(\"No of Tweets\")\n",
    "plt.show()"
   ]
  },
  {
   "cell_type": "markdown",
   "id": "f70334da",
   "metadata": {},
   "source": [
    "# Conclusion\n",
    "- Mostly tweets were positive or neutral and only 4% were negative. "
   ]
  },
  {
   "cell_type": "code",
   "execution_count": null,
   "id": "aebcdc82",
   "metadata": {},
   "outputs": [],
   "source": []
  }
 ],
 "metadata": {
  "kernelspec": {
   "display_name": "Python 3",
   "language": "python",
   "name": "python3"
  },
  "language_info": {
   "codemirror_mode": {
    "name": "ipython",
    "version": 3
   },
   "file_extension": ".py",
   "mimetype": "text/x-python",
   "name": "python",
   "nbconvert_exporter": "python",
   "pygments_lexer": "ipython3",
   "version": "3.9.7"
  },
  "toc": {
   "base_numbering": 1,
   "nav_menu": {},
   "number_sections": true,
   "sideBar": true,
   "skip_h1_title": false,
   "title_cell": "Table of Contents",
   "title_sidebar": "Contents",
   "toc_cell": false,
   "toc_position": {},
   "toc_section_display": true,
   "toc_window_display": false
  }
 },
 "nbformat": 4,
 "nbformat_minor": 5
}
